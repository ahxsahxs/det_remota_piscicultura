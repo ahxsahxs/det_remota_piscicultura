{
 "cells": [
  {
   "cell_type": "code",
   "execution_count": 15,
   "metadata": {},
   "outputs": [
    {
     "data": {
      "text/html": [
       "<div>\n",
       "<style scoped>\n",
       "    .dataframe tbody tr th:only-of-type {\n",
       "        vertical-align: middle;\n",
       "    }\n",
       "\n",
       "    .dataframe tbody tr th {\n",
       "        vertical-align: top;\n",
       "    }\n",
       "\n",
       "    .dataframe thead th {\n",
       "        text-align: right;\n",
       "    }\n",
       "</style>\n",
       "<table border=\"1\" class=\"dataframe\">\n",
       "  <thead>\n",
       "    <tr style=\"text-align: right;\">\n",
       "      <th></th>\n",
       "      <th>id</th>\n",
       "      <th>lulc</th>\n",
       "      <th>geometry</th>\n",
       "    </tr>\n",
       "  </thead>\n",
       "  <tbody>\n",
       "    <tr>\n",
       "      <th>0</th>\n",
       "      <td>5.0</td>\n",
       "      <td>non_vegetated</td>\n",
       "      <td>POLYGON ((-7018419.431 -1106262.283, -7017899....</td>\n",
       "    </tr>\n",
       "    <tr>\n",
       "      <th>1</th>\n",
       "      <td>5.0</td>\n",
       "      <td>non_vegetated</td>\n",
       "      <td>POLYGON ((-7048902.679 -1085694.396, -7048625....</td>\n",
       "    </tr>\n",
       "    <tr>\n",
       "      <th>2</th>\n",
       "      <td>3.0</td>\n",
       "      <td>forest</td>\n",
       "      <td>POLYGON ((-7045616.038 -1086614.232, -7045207....</td>\n",
       "    </tr>\n",
       "    <tr>\n",
       "      <th>3</th>\n",
       "      <td>3.0</td>\n",
       "      <td>forest</td>\n",
       "      <td>POLYGON ((-7046466.005 -1087857.829, -7046457....</td>\n",
       "    </tr>\n",
       "    <tr>\n",
       "      <th>4</th>\n",
       "      <td>3.0</td>\n",
       "      <td>forest</td>\n",
       "      <td>POLYGON ((-7030555.097 -1087524.358, -7028951....</td>\n",
       "    </tr>\n",
       "    <tr>\n",
       "      <th>...</th>\n",
       "      <td>...</td>\n",
       "      <td>...</td>\n",
       "      <td>...</td>\n",
       "    </tr>\n",
       "    <tr>\n",
       "      <th>1258</th>\n",
       "      <td>NaN</td>\n",
       "      <td>aquaculture</td>\n",
       "      <td>POLYGON ((-7006339.81 -1094793.252, -7006339.8...</td>\n",
       "    </tr>\n",
       "    <tr>\n",
       "      <th>1259</th>\n",
       "      <td>NaN</td>\n",
       "      <td>aquaculture</td>\n",
       "      <td>POLYGON ((-7006469.403 -1094831.902, -7006465....</td>\n",
       "    </tr>\n",
       "    <tr>\n",
       "      <th>1260</th>\n",
       "      <td>NaN</td>\n",
       "      <td>aquaculture</td>\n",
       "      <td>POLYGON ((-7006650.139 -1094730.62, -7006653.7...</td>\n",
       "    </tr>\n",
       "    <tr>\n",
       "      <th>1261</th>\n",
       "      <td>NaN</td>\n",
       "      <td>aquaculture</td>\n",
       "      <td>POLYGON ((-7006654.938 -1094622.383, -7006656....</td>\n",
       "    </tr>\n",
       "    <tr>\n",
       "      <th>1262</th>\n",
       "      <td>NaN</td>\n",
       "      <td>aquaculture</td>\n",
       "      <td>POLYGON ((-7006659.101 -1094553.993, -7006659....</td>\n",
       "    </tr>\n",
       "  </tbody>\n",
       "</table>\n",
       "<p>1263 rows × 3 columns</p>\n",
       "</div>"
      ],
      "text/plain": [
       "       id           lulc                                           geometry\n",
       "0     5.0  non_vegetated  POLYGON ((-7018419.431 -1106262.283, -7017899....\n",
       "1     5.0  non_vegetated  POLYGON ((-7048902.679 -1085694.396, -7048625....\n",
       "2     3.0         forest  POLYGON ((-7045616.038 -1086614.232, -7045207....\n",
       "3     3.0         forest  POLYGON ((-7046466.005 -1087857.829, -7046457....\n",
       "4     3.0         forest  POLYGON ((-7030555.097 -1087524.358, -7028951....\n",
       "...   ...            ...                                                ...\n",
       "1258  NaN    aquaculture  POLYGON ((-7006339.81 -1094793.252, -7006339.8...\n",
       "1259  NaN    aquaculture  POLYGON ((-7006469.403 -1094831.902, -7006465....\n",
       "1260  NaN    aquaculture  POLYGON ((-7006650.139 -1094730.62, -7006653.7...\n",
       "1261  NaN    aquaculture  POLYGON ((-7006654.938 -1094622.383, -7006656....\n",
       "1262  NaN    aquaculture  POLYGON ((-7006659.101 -1094553.993, -7006659....\n",
       "\n",
       "[1263 rows x 3 columns]"
      ]
     },
     "execution_count": 15,
     "metadata": {},
     "output_type": "execute_result"
    }
   ],
   "source": [
    "import os\n",
    "import geopandas as geopd\n",
    "\n",
    "FILE_PATH = '/home/me/workspace/det_remota/trabalho_final/data/qgis_outputs/training_data.shp'\n",
    "\n",
    "training_gdf = geopd.read_file(FILE_PATH)\n",
    "training_gdf"
   ]
  },
  {
   "cell_type": "code",
   "execution_count": 16,
   "metadata": {},
   "outputs": [],
   "source": [
    "training_gdf[\"lulc\"] = [\n",
    "    'farming' if x == 'agriculture' else x\n",
    "    for x in training_gdf[\"lulc\"].values\n",
    "]\n",
    "training_gdf[\"lulc\"] = [\n",
    "    'non_vegetated' if x in [\"urban\", \"mining\", \"exposed_soil\"] else x\n",
    "    for x in training_gdf[\"lulc\"].values\n",
    "]\n",
    "training_gdf[\"lulc\"] = [\n",
    "    'aquaculture' if x in [\"water_tank\"] else x\n",
    "    for x in training_gdf[\"lulc\"].values\n",
    "]\n",
    "training_gdf[\"lulc\"] = [\n",
    "    'river_lake_ocean' if x in [\"natural_water\"] else x\n",
    "    for x in training_gdf[\"lulc\"].values\n",
    "]"
   ]
  },
  {
   "cell_type": "code",
   "execution_count": 17,
   "metadata": {},
   "outputs": [
    {
     "data": {
      "text/plain": [
       "array(['non_vegetated', 'forest', 'river_lake_ocean', 'farming',\n",
       "       'aquaculture'], dtype=object)"
      ]
     },
     "execution_count": 17,
     "metadata": {},
     "output_type": "execute_result"
    }
   ],
   "source": [
    "training_gdf.lulc.unique()"
   ]
  },
  {
   "cell_type": "code",
   "execution_count": 18,
   "metadata": {},
   "outputs": [
    {
     "data": {
      "text/html": [
       "<div>\n",
       "<style scoped>\n",
       "    .dataframe tbody tr th:only-of-type {\n",
       "        vertical-align: middle;\n",
       "    }\n",
       "\n",
       "    .dataframe tbody tr th {\n",
       "        vertical-align: top;\n",
       "    }\n",
       "\n",
       "    .dataframe thead th {\n",
       "        text-align: right;\n",
       "    }\n",
       "</style>\n",
       "<table border=\"1\" class=\"dataframe\">\n",
       "  <thead>\n",
       "    <tr style=\"text-align: right;\">\n",
       "      <th></th>\n",
       "      <th>id</th>\n",
       "      <th>lulc</th>\n",
       "      <th>geometry</th>\n",
       "    </tr>\n",
       "  </thead>\n",
       "  <tbody>\n",
       "    <tr>\n",
       "      <th>0</th>\n",
       "      <td>5</td>\n",
       "      <td>non_vegetated</td>\n",
       "      <td>POLYGON ((-7018419.431 -1106262.283, -7017899....</td>\n",
       "    </tr>\n",
       "    <tr>\n",
       "      <th>1</th>\n",
       "      <td>5</td>\n",
       "      <td>non_vegetated</td>\n",
       "      <td>POLYGON ((-7048902.679 -1085694.396, -7048625....</td>\n",
       "    </tr>\n",
       "    <tr>\n",
       "      <th>2</th>\n",
       "      <td>3</td>\n",
       "      <td>forest</td>\n",
       "      <td>POLYGON ((-7045616.038 -1086614.232, -7045207....</td>\n",
       "    </tr>\n",
       "    <tr>\n",
       "      <th>3</th>\n",
       "      <td>3</td>\n",
       "      <td>forest</td>\n",
       "      <td>POLYGON ((-7046466.005 -1087857.829, -7046457....</td>\n",
       "    </tr>\n",
       "    <tr>\n",
       "      <th>4</th>\n",
       "      <td>3</td>\n",
       "      <td>forest</td>\n",
       "      <td>POLYGON ((-7030555.097 -1087524.358, -7028951....</td>\n",
       "    </tr>\n",
       "    <tr>\n",
       "      <th>...</th>\n",
       "      <td>...</td>\n",
       "      <td>...</td>\n",
       "      <td>...</td>\n",
       "    </tr>\n",
       "    <tr>\n",
       "      <th>1258</th>\n",
       "      <td>1</td>\n",
       "      <td>aquaculture</td>\n",
       "      <td>POLYGON ((-7006339.81 -1094793.252, -7006339.8...</td>\n",
       "    </tr>\n",
       "    <tr>\n",
       "      <th>1259</th>\n",
       "      <td>1</td>\n",
       "      <td>aquaculture</td>\n",
       "      <td>POLYGON ((-7006469.403 -1094831.902, -7006465....</td>\n",
       "    </tr>\n",
       "    <tr>\n",
       "      <th>1260</th>\n",
       "      <td>1</td>\n",
       "      <td>aquaculture</td>\n",
       "      <td>POLYGON ((-7006650.139 -1094730.62, -7006653.7...</td>\n",
       "    </tr>\n",
       "    <tr>\n",
       "      <th>1261</th>\n",
       "      <td>1</td>\n",
       "      <td>aquaculture</td>\n",
       "      <td>POLYGON ((-7006654.938 -1094622.383, -7006656....</td>\n",
       "    </tr>\n",
       "    <tr>\n",
       "      <th>1262</th>\n",
       "      <td>1</td>\n",
       "      <td>aquaculture</td>\n",
       "      <td>POLYGON ((-7006659.101 -1094553.993, -7006659....</td>\n",
       "    </tr>\n",
       "  </tbody>\n",
       "</table>\n",
       "<p>1263 rows × 3 columns</p>\n",
       "</div>"
      ],
      "text/plain": [
       "      id           lulc                                           geometry\n",
       "0      5  non_vegetated  POLYGON ((-7018419.431 -1106262.283, -7017899....\n",
       "1      5  non_vegetated  POLYGON ((-7048902.679 -1085694.396, -7048625....\n",
       "2      3         forest  POLYGON ((-7045616.038 -1086614.232, -7045207....\n",
       "3      3         forest  POLYGON ((-7046466.005 -1087857.829, -7046457....\n",
       "4      3         forest  POLYGON ((-7030555.097 -1087524.358, -7028951....\n",
       "...   ..            ...                                                ...\n",
       "1258   1    aquaculture  POLYGON ((-7006339.81 -1094793.252, -7006339.8...\n",
       "1259   1    aquaculture  POLYGON ((-7006469.403 -1094831.902, -7006465....\n",
       "1260   1    aquaculture  POLYGON ((-7006650.139 -1094730.62, -7006653.7...\n",
       "1261   1    aquaculture  POLYGON ((-7006654.938 -1094622.383, -7006656....\n",
       "1262   1    aquaculture  POLYGON ((-7006659.101 -1094553.993, -7006659....\n",
       "\n",
       "[1263 rows x 3 columns]"
      ]
     },
     "execution_count": 18,
     "metadata": {},
     "output_type": "execute_result"
    }
   ],
   "source": [
    "from shapely.geometry.polygon import Polygon\n",
    "\n",
    "ALLOWED_LULC = [\n",
    "    'aquaculture','river_lake_ocean',\n",
    "    'forest', 'farming',\n",
    "    'non_vegetated',\n",
    "]\n",
    "\n",
    "\n",
    "training_gdf = training_gdf.loc[\n",
    "    [isinstance(x, Polygon) for x in training_gdf.geometry.values],\n",
    "    :\n",
    "]\n",
    "training_gdf = training_gdf.loc[\n",
    "    [x in ALLOWED_LULC for x in training_gdf.lulc.values],\n",
    "    :\n",
    "]\n",
    "training_gdf[\"id\"] = [\n",
    "    ALLOWED_LULC.index(x)+1\n",
    "    for x in training_gdf.lulc\n",
    "]\n",
    "\n",
    "\n",
    "training_gdf"
   ]
  },
  {
   "cell_type": "code",
   "execution_count": 19,
   "metadata": {},
   "outputs": [
    {
     "data": {
      "text/plain": [
       "array([5, 3, 2, 4, 1])"
      ]
     },
     "execution_count": 19,
     "metadata": {},
     "output_type": "execute_result"
    }
   ],
   "source": [
    "training_gdf.id.unique()"
   ]
  },
  {
   "cell_type": "code",
   "execution_count": 20,
   "metadata": {},
   "outputs": [
    {
     "data": {
      "text/plain": [
       "array(['non_vegetated', 'forest', 'river_lake_ocean', 'farming',\n",
       "       'aquaculture'], dtype=object)"
      ]
     },
     "execution_count": 20,
     "metadata": {},
     "output_type": "execute_result"
    }
   ],
   "source": [
    "training_gdf.lulc.unique()"
   ]
  },
  {
   "cell_type": "code",
   "execution_count": 21,
   "metadata": {},
   "outputs": [],
   "source": [
    "training_gdf.to_file(FILE_PATH)"
   ]
  }
 ],
 "metadata": {
  "kernelspec": {
   "display_name": "Python 3",
   "language": "python",
   "name": "python3"
  },
  "language_info": {
   "codemirror_mode": {
    "name": "ipython",
    "version": 3
   },
   "file_extension": ".py",
   "mimetype": "text/x-python",
   "name": "python",
   "nbconvert_exporter": "python",
   "pygments_lexer": "ipython3",
   "version": "3.12.9"
  }
 },
 "nbformat": 4,
 "nbformat_minor": 2
}
