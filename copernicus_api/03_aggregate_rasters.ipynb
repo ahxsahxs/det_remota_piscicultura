{
 "cells": [
  {
   "cell_type": "code",
   "execution_count": null,
   "metadata": {},
   "outputs": [
    {
     "name": "stdout",
     "output_type": "stream",
     "text": [
      "Retrieving notices: done\n",
      "Channels:\n",
      " - defaults\n",
      "Platform: linux-64\n",
      "Collecting package metadata (repodata.json): done\n",
      "Solving environment: done\n",
      "\n",
      "# All requested packages already installed.\n",
      "\n",
      "\n",
      "Note: you may need to restart the kernel to use updated packages.\n"
     ]
    }
   ],
   "source": [
    "%conda install pandas gdal scikit-learn scikit-image scipy matplotlib seaborn"
   ]
  },
  {
   "cell_type": "code",
   "execution_count": 14,
   "metadata": {},
   "outputs": [],
   "source": [
    "import os\n",
    "from pathlib import Path\n",
    "import rasterio\n",
    "import numpy as np\n",
    "import os\n",
    "import pandas as pd\n",
    "import shutil\n",
    "\n",
    "np.seterr(divide='ignore', invalid='ignore')\n",
    "os.chdir(\"/home/me/workspace/det_remota/trabalho_final\")"
   ]
  },
  {
   "cell_type": "code",
   "execution_count": 15,
   "metadata": {},
   "outputs": [
    {
     "data": {
      "text/plain": [
       "year  month\n",
       "2017  08       6\n",
       "2018  08       6\n",
       "Name: path, dtype: int64"
      ]
     },
     "execution_count": 15,
     "metadata": {},
     "output_type": "execute_result"
    }
   ],
   "source": [
    "RAW_FILES_PATH = Path(\"data/sentinel2/merged\")\n",
    "\n",
    "def parse_file_path(path:Path):\n",
    "    file_info = str(path).replace(f\"{RAW_FILES_PATH}/\", '')\n",
    "    file_info = file_info.replace('.tiff', '')\n",
    "    layer, year, filename = file_info.split('/')\n",
    "\n",
    "    \n",
    "    return {\n",
    "        'layer' :layer,\n",
    "        'year' :year,\n",
    "        'month' :filename.split('_')[-1],\n",
    "        'path': path,\n",
    "    }\n",
    "\n",
    "files_df = pd.DataFrame(\n",
    "    [\n",
    "        parse_file_path(path)\n",
    "        for path in RAW_FILES_PATH.glob('**/*.tiff')\n",
    "    ]\n",
    ")\n",
    "files_df.groupby(['year', 'month']).path.count()"
   ]
  },
  {
   "cell_type": "code",
   "execution_count": null,
   "metadata": {},
   "outputs": [],
   "source": [
    "import shutil\n",
    "\n",
    "AGGREGATED_PATH = Path('data/sentinel2/aggregated')\n",
    "AGGREGATED_PATH.mkdir(parents=True, exist_ok=True)\n",
    "NORMALIZED_PATH = Path('data/sentinel2/normalized')\n",
    "NORMALIZED_PATH.mkdir(parents=True, exist_ok=True)\n",
    "\n",
    "def apply_constrast(channel_data):\n",
    "    min_max = (channel_data - np.min(channel_data)) / (np.max(channel_data) - np.min(channel_data))\n",
    "    return 255 * min_max\n",
    "\n",
    "def aggregate_tiff(year, month, path: list[Path]):\n",
    "    \n",
    "\n",
    "    print(f\"Pre-Processing raster for {year}/{month}\")\n",
    "\n",
    "    imgs_dict = {}\n",
    "    for _path in path:\n",
    "        if 'MOISTURE' in str(_path):\n",
    "            img_index = \"ndmi\"\n",
    "        if 'MSAVI2' in str(_path):\n",
    "            img_index = \"msavi2\"\n",
    "        if 'NDWI' in str(_path):\n",
    "            img_index = \"ndwi\"\n",
    "        if 'VEGETATION_INDEX' in str(_path):\n",
    "            img_index = \"ndvi\"\n",
    "        if 'FALSE-COLOR' in str(_path):\n",
    "            img_index = \"false_color\"\n",
    "        if 'TRUE_COLOR' in str(_path):\n",
    "            img_index = \"true_color\"\n",
    "        imgs_dict[img_index] = rasterio.open(_path)\n",
    "    \n",
    "    channels_values = [\n",
    "        # True Color first\n",
    "        imgs_dict[\"true_color\"].read(1),\n",
    "        imgs_dict[\"true_color\"].read(2),\n",
    "        imgs_dict[\"true_color\"].read(3),\n",
    "        # False Color second\n",
    "        imgs_dict[\"false_color\"].read(1),\n",
    "        imgs_dict[\"false_color\"].read(2),\n",
    "        imgs_dict[\"false_color\"].read(3),\n",
    "        # Indexes in the tails\n",
    "        imgs_dict[\"ndmi\"].read(1),\n",
    "        imgs_dict[\"msavi2\"].read(1),\n",
    "        imgs_dict[\"ndwi\"].read(1),\n",
    "        imgs_dict[\"ndvi\"].read(1),\n",
    "        # One mask for NODATA\n",
    "        imgs_dict[\"ndvi\"].read(2),\n",
    "    ]\n",
    "\n",
    "    profile = imgs_dict[\"ndvi\"].profile.copy()\n",
    "    profile.update(count=len(channels_values))\n",
    "\n",
    "    agg_out_path = AGGREGATED_PATH.joinpath(f'{year}_{month.zfill(2)}.tiff')\n",
    "    with rasterio.open(agg_out_path, \"w\", **profile) as out_tiff:\n",
    "        for idx, values in enumerate(channels_values):\n",
    "            out_tiff.write_band(idx+1, values)\n",
    "    return True"
   ]
  },
  {
   "cell_type": "code",
   "execution_count": 20,
   "metadata": {},
   "outputs": [
    {
     "name": "stdout",
     "output_type": "stream",
     "text": [
      "Pre-Processing raster for 2017/08\n",
      "Pre-Processing raster for 2018/08\n"
     ]
    }
   ],
   "source": [
    "OUT_CHANNEL_NAMES = [\n",
    "    \"TRUE_COLOR_1\",\n",
    "    \"TRUE_COLOR_2\",\n",
    "    \"TRUE_COLOR_3\",\n",
    "    \"FALSE_COLOR_1\",\n",
    "    \"FALSE_COLOR_2\",\n",
    "    \"FALSE_COLOR_3\",\n",
    "    \"NDMI\",\n",
    "    \"MSAVI2\",\n",
    "    \"NDWI\",\n",
    "    \"NDVI\",\n",
    "    \"NODATA_MASK\",\n",
    "]\n",
    "\n",
    "if True:\n",
    "    if AGGREGATED_PATH.exists():\n",
    "        shutil.rmtree(AGGREGATED_PATH)\n",
    "    AGGREGATED_PATH.mkdir(parents=True)\n",
    "    if NORMALIZED_PATH.exists():\n",
    "        shutil.rmtree(NORMALIZED_PATH)\n",
    "    NORMALIZED_PATH.mkdir(parents=True)\n",
    "\n",
    "if True:\n",
    "    pd.DataFrame({\n",
    "        'Band': range(1, len(OUT_CHANNEL_NAMES)+1),\n",
    "        'Description': OUT_CHANNEL_NAMES\n",
    "    }).to_csv(AGGREGATED_PATH.joinpath('bands.csv'), index=False)\n",
    "    pd.DataFrame({\n",
    "        'Band': range(1, len(OUT_CHANNEL_NAMES)+1),\n",
    "        'Description': OUT_CHANNEL_NAMES\n",
    "    }).to_csv(NORMALIZED_PATH.joinpath('bands.csv'), index=False)\n",
    "\n",
    "    files_df\\\n",
    "        .groupby(['year', 'month'])\\\n",
    "        .path.unique().reset_index()\\\n",
    "        .apply(lambda x: aggregate_tiff(**x), axis=1)"
   ]
  }
 ],
 "metadata": {
  "kernelspec": {
   "display_name": "Python 3",
   "language": "python",
   "name": "python3"
  },
  "language_info": {
   "codemirror_mode": {
    "name": "ipython",
    "version": 3
   },
   "file_extension": ".py",
   "mimetype": "text/x-python",
   "name": "python",
   "nbconvert_exporter": "python",
   "pygments_lexer": "ipython3",
   "version": "3.12.9"
  }
 },
 "nbformat": 4,
 "nbformat_minor": 2
}
