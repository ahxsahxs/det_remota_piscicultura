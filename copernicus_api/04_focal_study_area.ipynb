{
 "cells": [
  {
   "cell_type": "code",
   "execution_count": 2,
   "metadata": {},
   "outputs": [],
   "source": [
    "import os\n",
    "from pathlib import Path\n",
    "import rasterio\n",
    "import numpy as np\n",
    "import geopandas as geopd\n",
    "import os\n",
    "import pandas as pd\n",
    "import shutil\n",
    "\n",
    "np.seterr(divide='ignore', invalid='ignore')\n",
    "os.chdir(\"/home/me/workspace/det_remota/trabalho_final\")"
   ]
  },
  {
   "cell_type": "code",
   "execution_count": 4,
   "metadata": {},
   "outputs": [
    {
     "data": {
      "text/plain": [
       "<Axes: >"
      ]
     },
     "execution_count": 4,
     "metadata": {},
     "output_type": "execute_result"
    },
    {
     "data": {
      "image/png": "[encoded data removed]",
      "text/plain": [
       "<Figure size 640x480 with 1 Axes>"
      ]
     },
     "metadata": {},
     "output_type": "display_data"
    }
   ],
   "source": [
    "focal_area_shp = geopd.read_file('data/qgis_outputs/focal_study_area.shp')\n",
    "focal_area_shp.plot()"
   ]
  },
  {
   "cell_type": "code",
   "execution_count": 10,
   "metadata": {},
   "outputs": [
    {
     "name": "stdout",
     "output_type": "stream",
     "text": [
      "Cropped file data/sentinel2/normalized/2017_08.tiff\n",
      "Cropped file data/sentinel2/normalized/2018_08.tiff\n"
     ]
    }
   ],
   "source": [
    "INPUT_PATH = Path('data/sentinel2/normalized')\n",
    "OUTPUT_PATH = Path('data/sentinel2/focal_study_area')\n",
    "\n",
    "import rasterio.mask\n",
    "\n",
    "mask_shapes = focal_area_shp.geometry.values\n",
    "\n",
    "for raster_path in INPUT_PATH.glob('*.tiff'):\n",
    "    with rasterio.open(raster_path) as src:\n",
    "        out_image, out_transform = rasterio.mask.mask(src, mask_shapes, crop=True)\n",
    "        out_meta = src.meta\n",
    "    \n",
    "    input_filename = str(raster_path).split('/')[-1].replace('.tiff', '')\n",
    "    cropped_raster_path = OUTPUT_PATH.joinpath(f'{input_filename}.tiff')\n",
    "    \n",
    "    out_meta.update({\"driver\": \"GTiff\",\n",
    "                 \"height\": out_image.shape[1],\n",
    "                 \"width\": out_image.shape[2],\n",
    "                 \"transform\": out_transform})\n",
    "\n",
    "    with rasterio.open(cropped_raster_path, \"w\", **out_meta) as dest:\n",
    "        dest.write(out_image)\n",
    "\n",
    "    print(f\"Cropped file {raster_path}\")"
   ]
  }
 ],
 "metadata": {
  "kernelspec": {
   "display_name": "Python 3",
   "language": "python",
   "name": "python3"
  },
  "language_info": {
   "codemirror_mode": {
    "name": "ipython",
    "version": 3
   },
   "file_extension": ".py",
   "mimetype": "text/x-python",
   "name": "python",
   "nbconvert_exporter": "python",
   "pygments_lexer": "ipython3",
   "version": "3.12.9"
  }
 },
 "nbformat": 4,
 "nbformat_minor": 2
}
