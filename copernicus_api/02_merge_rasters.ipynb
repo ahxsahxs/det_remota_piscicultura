{
 "cells": [
  {
   "cell_type": "code",
   "execution_count": 7,
   "metadata": {},
   "outputs": [],
   "source": [
    "import os\n",
    "from dotenv import load_dotenv\n",
    "import geopandas as geopd\n",
    "import pandas as pd\n",
    "import rasterio\n",
    "from pathlib import Path\n",
    "\n",
    "load_dotenv()\n",
    "os.chdir(\"/home/me/workspace/det_remota/trabalho_final\")"
   ]
  },
  {
   "cell_type": "code",
   "execution_count": 8,
   "metadata": {},
   "outputs": [
    {
     "data": {
      "text/plain": [
       "layer             year  month\n",
       "FALSE-COLOR       2017  8        21\n",
       "                  2018  8        21\n",
       "MOISTURE          2017  8        21\n",
       "                  2018  8        21\n",
       "MSAVI2            2017  8        21\n",
       "                  2018  8        21\n",
       "NDWI              2017  8        21\n",
       "                  2018  8        21\n",
       "TRUE_COLOR        2017  8        21\n",
       "                  2018  8        21\n",
       "VEGETATION_INDEX  2017  8        21\n",
       "                  2018  8        21\n",
       "Name: path, dtype: int64"
      ]
     },
     "execution_count": 8,
     "metadata": {},
     "output_type": "execute_result"
    }
   ],
   "source": [
    "RAW_FILES_PATH = Path(\"data/sentinel2/raw\")\n",
    "\n",
    "def parse_file_path(path:Path):\n",
    "    file_info = str(path).replace('data/sentinel2/raw/', '')\n",
    "    file_info = file_info.replace('.tiff', '')\n",
    "    layer, year, month, grid_cell = file_info.split('/')\n",
    "    return {\n",
    "        'layer' :layer,\n",
    "        'year' :year,\n",
    "        'month' :month,\n",
    "        'grid_cell' :grid_cell,\n",
    "        'path': path,\n",
    "    }\n",
    "\n",
    "files_df = pd.DataFrame(\n",
    "    [\n",
    "        parse_file_path(path)\n",
    "        for path in RAW_FILES_PATH.glob('**/*.tiff')\n",
    "    ]\n",
    ")\n",
    "files_df.groupby([\"layer\", \"year\", \"month\"]).path.count()"
   ]
  },
  {
   "cell_type": "code",
   "execution_count": 9,
   "metadata": {},
   "outputs": [
    {
     "name": "stdout",
     "output_type": "stream",
     "text": [
      "Will merge tiff files for layer FALSE-COLOR - 2017/8\n",
      "Will merge tiff files for layer FALSE-COLOR - 2018/8\n",
      "Will merge tiff files for layer MOISTURE - 2017/8\n",
      "Will merge tiff files for layer MOISTURE - 2018/8\n",
      "Will merge tiff files for layer MSAVI2 - 2017/8\n",
      "Will merge tiff files for layer MSAVI2 - 2018/8\n",
      "Will merge tiff files for layer NDWI - 2017/8\n",
      "Will merge tiff files for layer NDWI - 2018/8\n",
      "Will merge tiff files for layer TRUE_COLOR - 2017/8\n",
      "Will merge tiff files for layer TRUE_COLOR - 2018/8\n",
      "Will merge tiff files for layer VEGETATION_INDEX - 2017/8\n",
      "Will merge tiff files for layer VEGETATION_INDEX - 2018/8\n"
     ]
    }
   ],
   "source": [
    "import rasterio.merge\n",
    "import shutil\n",
    "\n",
    "MERGED_TIFFS_PATH = Path('data/sentinel2/merged')\n",
    "\n",
    "\n",
    "def merge_tiff(layer, year, month, path: list[Path]):\n",
    "    out_dir = MERGED_TIFFS_PATH.joinpath(f'{layer}/{year}/{layer}_{year}_{month.zfill(2)}.tiff')\n",
    "    out_dir.parent.mkdir(parents=True, exist_ok=True)\n",
    "\n",
    "    dataset_list = [\n",
    "        rasterio.open(_path)\n",
    "        for _path in path\n",
    "    ]\n",
    "\n",
    "    if len(dataset_list) < 21:\n",
    "        print(f\"Dataset was not complete for layer {layer} - {year}/{month}\")\n",
    "        print(f\"Only {len(dataset_list)} rasters were found\")\n",
    "        return 0\n",
    "    \n",
    "    print(f'Will merge tiff files for layer {layer} - {year}/{month}')\n",
    "    rasterio.merge.merge(\n",
    "        dataset_list,\n",
    "        use_highest_res=True,\n",
    "        dst_path=out_dir\n",
    "    )\n",
    "\n",
    "    return len(dataset_list)\n",
    "\n",
    "if True:\n",
    "    if MERGED_TIFFS_PATH.exists():\n",
    "        shutil.rmtree(MERGED_TIFFS_PATH)\n",
    "\n",
    "    MERGED_TIFFS_PATH.mkdir(parents=True)\n",
    "\n",
    "    files_df\\\n",
    "        .groupby(['layer', 'year', 'month'])\\\n",
    "        .path.unique().reset_index()\\\n",
    "        .apply(lambda x: merge_tiff(**x), axis=1)"
   ]
  },
  {
   "cell_type": "code",
   "execution_count": null,
   "metadata": {},
   "outputs": [],
   "source": []
  }
 ],
 "metadata": {
  "kernelspec": {
   "display_name": "Python 3",
   "language": "python",
   "name": "python3"
  },
  "language_info": {
   "codemirror_mode": {
    "name": "ipython",
    "version": 3
   },
   "file_extension": ".py",
   "mimetype": "text/x-python",
   "name": "python",
   "nbconvert_exporter": "python",
   "pygments_lexer": "ipython3",
   "version": "3.12.9"
  }
 },
 "nbformat": 4,
 "nbformat_minor": 2
}
