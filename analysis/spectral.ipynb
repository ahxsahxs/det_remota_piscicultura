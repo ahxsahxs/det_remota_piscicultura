{
 "cells": [
  {
   "cell_type": "code",
   "execution_count": 2,
   "metadata": {},
   "outputs": [],
   "source": [
    "import os\n",
    "import geopandas as geopd\n",
    "import rasterio \n",
    "from pathlib import Path\n",
    "import pandas as pd\n",
    "import numpy as np\n",
    "\n",
    "np.seterr(divide='ignore', invalid='ignore')\n",
    "os.chdir(\"/home/me/workspace/det_remota/trabalho_final\")"
   ]
  },
  {
   "cell_type": "code",
   "execution_count": 3,
   "metadata": {},
   "outputs": [
    {
     "name": "stdout",
     "output_type": "stream",
     "text": [
      "Channels:\n",
      " - defaults\n",
      "Platform: linux-64\n",
      "Collecting package metadata (repodata.json): done\n",
      "Solving environment: done\n",
      "\n",
      "# All requested packages already installed.\n",
      "\n",
      "\n",
      "Note: you may need to restart the kernel to use updated packages.\n"
     ]
    }
   ],
   "source": [
    "%conda install jinja2 tabulate"
   ]
  },
  {
   "cell_type": "code",
   "execution_count": 4,
   "metadata": {},
   "outputs": [
    {
     "name": "stdout",
     "output_type": "stream",
     "text": [
      "| lulc             |   N. Polygons |   Area (ha) |\n",
      "|:-----------------|--------------:|------------:|\n",
      "| aquaculture      |          1206 |     618.223 |\n",
      "| farming          |            19 |     639.784 |\n",
      "| forest           |             6 |    1247.59  |\n",
      "| non_vegetated    |            23 |    4990.48  |\n",
      "| river_lake_ocean |             9 |     286.562 |\n"
     ]
    }
   ],
   "source": [
    "TRAINING_POLY_PATH = Path(\"data/qgis_outputs/training_data.shp\")\n",
    "training_gdf = geopd.read_file(TRAINING_POLY_PATH)\n",
    "training_gdf[\"area\"] = training_gdf.geometry.area\n",
    "area_vec = training_gdf.groupby('lulc').area.sum()/10_000\n",
    "count_vec = training_gdf.groupby('lulc').area.count()\n",
    "print(pd.DataFrame({\n",
    "    'N. Polygons': count_vec,\n",
    "    'Area (ha)': area_vec\n",
    "}).to_markdown())"
   ]
  },
  {
   "cell_type": "code",
   "execution_count": 5,
   "metadata": {},
   "outputs": [
    {
     "data": {
      "text/plain": [
       "(7884, 13797)"
      ]
     },
     "execution_count": 5,
     "metadata": {},
     "output_type": "execute_result"
    }
   ],
   "source": [
    "TRAINING_RASTER_PATH = Path(\"data/sentinel2/preprocessed/equalized_mosaics/2017_8.tiff\")\n",
    "\n",
    "training_raster = rasterio.open(TRAINING_RASTER_PATH)\n",
    "training_raster.shape"
   ]
  },
  {
   "cell_type": "code",
   "execution_count": 6,
   "metadata": {},
   "outputs": [
    {
     "data": {
      "text/plain": [
       "{'row_idx': 0,\n",
       " 'id': 5,\n",
       " 'lulc': 'non_vegetated',\n",
       " 'geometry': <POLYGON ((-7018419.431 -1106262.283, -7017899.449 -1104869.086, -7017066.68...>,\n",
       " 'raster': masked_array(\n",
       "   data=[[[--, --, --, ..., --, --, --],\n",
       "          [--, --, --, ..., --, --, --],\n",
       "          [--, --, --, ..., --, --, --],\n",
       "          ...,\n",
       "          [--, --, --, ..., --, --, --],\n",
       "          [--, --, --, ..., --, --, --],\n",
       "          [--, --, --, ..., --, --, --]],\n",
       " \n",
       "         [[--, --, --, ..., --, --, --],\n",
       "          [--, --, --, ..., --, --, --],\n",
       "          [--, --, --, ..., --, --, --],\n",
       "          ...,\n",
       "          [--, --, --, ..., --, --, --],\n",
       "          [--, --, --, ..., --, --, --],\n",
       "          [--, --, --, ..., --, --, --]],\n",
       " \n",
       "         [[--, --, --, ..., --, --, --],\n",
       "          [--, --, --, ..., --, --, --],\n",
       "          [--, --, --, ..., --, --, --],\n",
       "          ...,\n",
       "          [--, --, --, ..., --, --, --],\n",
       "          [--, --, --, ..., --, --, --],\n",
       "          [--, --, --, ..., --, --, --]],\n",
       " \n",
       "         ...,\n",
       " \n",
       "         [[--, --, --, ..., --, --, --],\n",
       "          [--, --, --, ..., --, --, --],\n",
       "          [--, --, --, ..., --, --, --],\n",
       "          ...,\n",
       "          [--, --, --, ..., --, --, --],\n",
       "          [--, --, --, ..., --, --, --],\n",
       "          [--, --, --, ..., --, --, --]],\n",
       " \n",
       "         [[--, --, --, ..., --, --, --],\n",
       "          [--, --, --, ..., --, --, --],\n",
       "          [--, --, --, ..., --, --, --],\n",
       "          ...,\n",
       "          [--, --, --, ..., --, --, --],\n",
       "          [--, --, --, ..., --, --, --],\n",
       "          [--, --, --, ..., --, --, --]],\n",
       " \n",
       "         [[--, --, --, ..., --, --, --],\n",
       "          [--, --, --, ..., --, --, --],\n",
       "          [--, --, --, ..., --, --, --],\n",
       "          ...,\n",
       "          [--, --, --, ..., --, --, --],\n",
       "          [--, --, --, ..., --, --, --],\n",
       "          [--, --, --, ..., --, --, --]]],\n",
       "   mask=[[[ True,  True,  True, ...,  True,  True,  True],\n",
       "          [ True,  True,  True, ...,  True,  True,  True],\n",
       "          [ True,  True,  True, ...,  True,  True,  True],\n",
       "          ...,\n",
       "          [ True,  True,  True, ...,  True,  True,  True],\n",
       "          [ True,  True,  True, ...,  True,  True,  True],\n",
       "          [ True,  True,  True, ...,  True,  True,  True]],\n",
       " \n",
       "         [[ True,  True,  True, ...,  True,  True,  True],\n",
       "          [ True,  True,  True, ...,  True,  True,  True],\n",
       "          [ True,  True,  True, ...,  True,  True,  True],\n",
       "          ...,\n",
       "          [ True,  True,  True, ...,  True,  True,  True],\n",
       "          [ True,  True,  True, ...,  True,  True,  True],\n",
       "          [ True,  True,  True, ...,  True,  True,  True]],\n",
       " \n",
       "         [[ True,  True,  True, ...,  True,  True,  True],\n",
       "          [ True,  True,  True, ...,  True,  True,  True],\n",
       "          [ True,  True,  True, ...,  True,  True,  True],\n",
       "          ...,\n",
       "          [ True,  True,  True, ...,  True,  True,  True],\n",
       "          [ True,  True,  True, ...,  True,  True,  True],\n",
       "          [ True,  True,  True, ...,  True,  True,  True]],\n",
       " \n",
       "         ...,\n",
       " \n",
       "         [[ True,  True,  True, ...,  True,  True,  True],\n",
       "          [ True,  True,  True, ...,  True,  True,  True],\n",
       "          [ True,  True,  True, ...,  True,  True,  True],\n",
       "          ...,\n",
       "          [ True,  True,  True, ...,  True,  True,  True],\n",
       "          [ True,  True,  True, ...,  True,  True,  True],\n",
       "          [ True,  True,  True, ...,  True,  True,  True]],\n",
       " \n",
       "         [[ True,  True,  True, ...,  True,  True,  True],\n",
       "          [ True,  True,  True, ...,  True,  True,  True],\n",
       "          [ True,  True,  True, ...,  True,  True,  True],\n",
       "          ...,\n",
       "          [ True,  True,  True, ...,  True,  True,  True],\n",
       "          [ True,  True,  True, ...,  True,  True,  True],\n",
       "          [ True,  True,  True, ...,  True,  True,  True]],\n",
       " \n",
       "         [[ True,  True,  True, ...,  True,  True,  True],\n",
       "          [ True,  True,  True, ...,  True,  True,  True],\n",
       "          [ True,  True,  True, ...,  True,  True,  True],\n",
       "          ...,\n",
       "          [ True,  True,  True, ...,  True,  True,  True],\n",
       "          [ True,  True,  True, ...,  True,  True,  True],\n",
       "          [ True,  True,  True, ...,  True,  True,  True]]],\n",
       "   fill_value=999999,\n",
       "   dtype=uint8)}"
      ]
     },
     "execution_count": 6,
     "metadata": {},
     "output_type": "execute_result"
    }
   ],
   "source": [
    "import rasterio.mask\n",
    "\n",
    "def get_mask_for_row(idx: int):\n",
    "    id, lulc, geometry, area = training_gdf.iloc[idx, :]\n",
    "    \n",
    "    masked, _ = rasterio.mask.mask(\n",
    "        training_raster, \n",
    "        [geometry], \n",
    "        filled=False,\n",
    "        crop=True,\n",
    "    )\n",
    "    \n",
    "    return {\n",
    "        \"row_idx\": idx,\n",
    "        \"id\": id,\n",
    "        \"lulc\": lulc,\n",
    "        \"geometry\": geometry,\n",
    "        \"raster\": masked\n",
    "    }\n",
    "\n",
    "masked_rasters = [get_mask_for_row(x) for x in range(training_gdf.shape[0])]\n",
    "masked_rasters[0]"
   ]
  },
  {
   "cell_type": "code",
   "execution_count": 7,
   "metadata": {},
   "outputs": [
    {
     "data": {
      "text/html": [
       "<div>\n",
       "<style scoped>\n",
       "    .dataframe tbody tr th:only-of-type {\n",
       "        vertical-align: middle;\n",
       "    }\n",
       "\n",
       "    .dataframe tbody tr th {\n",
       "        vertical-align: top;\n",
       "    }\n",
       "\n",
       "    .dataframe thead th {\n",
       "        text-align: right;\n",
       "    }\n",
       "</style>\n",
       "<table border=\"1\" class=\"dataframe\">\n",
       "  <thead>\n",
       "    <tr style=\"text-align: right;\">\n",
       "      <th></th>\n",
       "      <th>band</th>\n",
       "      <th>value</th>\n",
       "      <th>lulc</th>\n",
       "      <th>id</th>\n",
       "      <th>row_idx</th>\n",
       "    </tr>\n",
       "  </thead>\n",
       "  <tbody>\n",
       "    <tr>\n",
       "      <th>0</th>\n",
       "      <td>1</td>\n",
       "      <td>NaN</td>\n",
       "      <td>non_vegetated</td>\n",
       "      <td>5</td>\n",
       "      <td>0</td>\n",
       "    </tr>\n",
       "    <tr>\n",
       "      <th>1</th>\n",
       "      <td>1</td>\n",
       "      <td>NaN</td>\n",
       "      <td>non_vegetated</td>\n",
       "      <td>5</td>\n",
       "      <td>0</td>\n",
       "    </tr>\n",
       "    <tr>\n",
       "      <th>2</th>\n",
       "      <td>1</td>\n",
       "      <td>NaN</td>\n",
       "      <td>non_vegetated</td>\n",
       "      <td>5</td>\n",
       "      <td>0</td>\n",
       "    </tr>\n",
       "    <tr>\n",
       "      <th>3</th>\n",
       "      <td>1</td>\n",
       "      <td>NaN</td>\n",
       "      <td>non_vegetated</td>\n",
       "      <td>5</td>\n",
       "      <td>0</td>\n",
       "    </tr>\n",
       "    <tr>\n",
       "      <th>4</th>\n",
       "      <td>1</td>\n",
       "      <td>NaN</td>\n",
       "      <td>non_vegetated</td>\n",
       "      <td>5</td>\n",
       "      <td>0</td>\n",
       "    </tr>\n",
       "    <tr>\n",
       "      <th>...</th>\n",
       "      <td>...</td>\n",
       "      <td>...</td>\n",
       "      <td>...</td>\n",
       "      <td>...</td>\n",
       "      <td>...</td>\n",
       "    </tr>\n",
       "    <tr>\n",
       "      <th>14548565</th>\n",
       "      <td>10</td>\n",
       "      <td>0.0</td>\n",
       "      <td>aquaculture</td>\n",
       "      <td>1</td>\n",
       "      <td>1262</td>\n",
       "    </tr>\n",
       "    <tr>\n",
       "      <th>14548566</th>\n",
       "      <td>10</td>\n",
       "      <td>0.0</td>\n",
       "      <td>aquaculture</td>\n",
       "      <td>1</td>\n",
       "      <td>1262</td>\n",
       "    </tr>\n",
       "    <tr>\n",
       "      <th>14548567</th>\n",
       "      <td>10</td>\n",
       "      <td>0.0</td>\n",
       "      <td>aquaculture</td>\n",
       "      <td>1</td>\n",
       "      <td>1262</td>\n",
       "    </tr>\n",
       "    <tr>\n",
       "      <th>14548568</th>\n",
       "      <td>10</td>\n",
       "      <td>0.0</td>\n",
       "      <td>aquaculture</td>\n",
       "      <td>1</td>\n",
       "      <td>1262</td>\n",
       "    </tr>\n",
       "    <tr>\n",
       "      <th>14548569</th>\n",
       "      <td>10</td>\n",
       "      <td>0.0</td>\n",
       "      <td>aquaculture</td>\n",
       "      <td>1</td>\n",
       "      <td>1262</td>\n",
       "    </tr>\n",
       "  </tbody>\n",
       "</table>\n",
       "<p>14548570 rows × 5 columns</p>\n",
       "</div>"
      ],
      "text/plain": [
       "          band  value           lulc  id  row_idx\n",
       "0            1    NaN  non_vegetated   5        0\n",
       "1            1    NaN  non_vegetated   5        0\n",
       "2            1    NaN  non_vegetated   5        0\n",
       "3            1    NaN  non_vegetated   5        0\n",
       "4            1    NaN  non_vegetated   5        0\n",
       "...        ...    ...            ...  ..      ...\n",
       "14548565    10    0.0    aquaculture   1     1262\n",
       "14548566    10    0.0    aquaculture   1     1262\n",
       "14548567    10    0.0    aquaculture   1     1262\n",
       "14548568    10    0.0    aquaculture   1     1262\n",
       "14548569    10    0.0    aquaculture   1     1262\n",
       "\n",
       "[14548570 rows x 5 columns]"
      ]
     },
     "execution_count": 7,
     "metadata": {},
     "output_type": "execute_result"
    }
   ],
   "source": [
    "import numpy as np\n",
    "import pandas as pd\n",
    "\n",
    "def summarize_raster_dict(mask_dict: dict):\n",
    "    raster = mask_dict[\"raster\"]\n",
    "\n",
    "    def extract_band_values(band_idx):\n",
    "        band_values = pd.DataFrame(raster[band_idx]).values.reshape(-1)\n",
    "        return pd.DataFrame({\n",
    "            \"band\": band_idx+1,\n",
    "            \"value\": band_values\n",
    "        })\n",
    "\n",
    "    pixels_df = pd.concat([\n",
    "        extract_band_values(x)\n",
    "        for x in range(10)\n",
    "    ], axis=0)\n",
    "    pixels_df[\"lulc\"] = mask_dict[\"lulc\"]\n",
    "    pixels_df[\"id\"] = mask_dict[\"id\"]\n",
    "    pixels_df[\"row_idx\"] = mask_dict[\"row_idx\"]\n",
    "    pixels_df.reset_index(inplace=True, drop=True)\n",
    "    \n",
    "    return pixels_df\n",
    "    \n",
    "\n",
    "poly_stats_df = pd.concat([\n",
    "    summarize_raster_dict(x)\n",
    "    for x in masked_rasters\n",
    "], axis=0)\n",
    "poly_stats_df.reset_index(inplace=True, drop=True)\n",
    "poly_stats_df"
   ]
  },
  {
   "cell_type": "code",
   "execution_count": 8,
   "metadata": {},
   "outputs": [],
   "source": [
    "poly_stats_df.drop(index=poly_stats_df.index[poly_stats_df.value.isna()],\n",
    "                   inplace=True)\n"
   ]
  },
  {
   "cell_type": "code",
   "execution_count": 9,
   "metadata": {},
   "outputs": [
    {
     "data": {
      "text/plain": [
       "lulc\n",
       "aquaculture          61415\n",
       "farming              62102\n",
       "forest              121117\n",
       "non_vegetated       484681\n",
       "river_lake_ocean     27821\n",
       "Name: band, dtype: int64"
      ]
     },
     "execution_count": 9,
     "metadata": {},
     "output_type": "execute_result"
    }
   ],
   "source": [
    "(poly_stats_df.groupby(\"lulc\").band.count()/10).astype(int)"
   ]
  },
  {
   "cell_type": "code",
   "execution_count": 27,
   "metadata": {},
   "outputs": [
    {
     "data": {
      "text/plain": [
       "Text(0.5, 1.0, 'As margens de erro contém 90% das observações')"
      ]
     },
     "execution_count": 27,
     "metadata": {},
     "output_type": "execute_result"
    },
    {
     "data": {
      "image/png": "[encoded data removed]",
      "text/plain": [
       "<Figure size 640x480 with 1 Axes>"
      ]
     },
     "metadata": {},
     "output_type": "display_data"
    }
   ],
   "source": [
    "import seaborn as sns\n",
    "import matplotlib.pyplot as plt\n",
    "\n",
    "def rename_index_band(band_idx):\n",
    "    if band_idx == 7:\n",
    "        return \"NDMI\" \n",
    "    if band_idx == 8:\n",
    "        return \"MSAVI2\" \n",
    "    if band_idx == 9:\n",
    "        return \"NDWI\" \n",
    "    if band_idx == 10:\n",
    "        return \"NDVI\" \n",
    "    return None\n",
    "\n",
    "\n",
    "def rename_lulc(x):\n",
    "    if x=='river_lake_ocean':\n",
    "        return 'Rio/Lago'\n",
    "    if x=='aquaculture':\n",
    "        return 'Aquacultura'\n",
    "    if x=='forest':\n",
    "        return 'Floreta'\n",
    "    if x=='farming':\n",
    "        return 'Agricultura'\n",
    "    return 'Não Vegetado'\n",
    "\n",
    "index_stats_df = poly_stats_df.loc[poly_stats_df.band>6, :].copy()\n",
    "index_stats_df.band = [rename_index_band(x) for x in index_stats_df.band]\n",
    "index_stats_df['LULC'] = [rename_lulc(x) for x in index_stats_df.lulc]\n",
    "\n",
    "ax = sns.pointplot(index_stats_df, x='band', y='value', hue='LULC',\n",
    "                   dodge=0.5, \n",
    "                   estimator=\"mean\",\n",
    "                   errorbar=lambda x: np.quantile(x, (0.05, 0.95)),\n",
    "                   capsize=0.1,\n",
    "                   linestyles=\"none\",\n",
    "                   markers=\"D\",\n",
    "                   order=[\"NDWI\", \"NDVI\", \"NDMI\", \"MSAVI2\"],\n",
    "                   hue_order=[\"Rio/Lago\", \"Aquacultura\", \"Floreta\", \"Agricultura\", \"Não Vegetado\",],\n",
    "                   palette={\n",
    "                       'Rio/Lago': \"#1222b5\",\n",
    "                       'Aquacultura': \"#00ced1\",\n",
    "                       'Floreta': \"#005709\",\n",
    "                       'Agricultura': \"#bcc900\",\n",
    "                       'Não Vegetado': \"#bf0000\"   \n",
    "                   }\n",
    "                )\n",
    "sns.move_legend(\n",
    "    ax,\n",
    "    \"upper left\", \n",
    "    bbox_to_anchor=(1, 1)\n",
    ")\n",
    "plt.suptitle('Valor médio dos Índices Espectrais', fontsize=16, x=0.5)\n",
    "plt.title('As margens de erro contém 90% das observações', fontsize=12, x=0.5)"
   ]
  },
  {
   "cell_type": "code",
   "execution_count": 22,
   "metadata": {},
   "outputs": [
    {
     "data": {
      "text/plain": [
       "153.0"
      ]
     },
     "execution_count": 22,
     "metadata": {},
     "output_type": "execute_result"
    }
   ],
   "source": [
    "index_stats_df.loc[index_stats_df.lulc =='forest'].loc[index_stats_df.band =='NDVI'].value.quantile(0.01)"
   ]
  }
 ],
 "metadata": {
  "kernelspec": {
   "display_name": "Python 3",
   "language": "python",
   "name": "python3"
  },
  "language_info": {
   "codemirror_mode": {
    "name": "ipython",
    "version": 3
   },
   "file_extension": ".py",
   "mimetype": "text/x-python",
   "name": "python",
   "nbconvert_exporter": "python",
   "pygments_lexer": "ipython3",
   "version": "3.12.9"
  }
 },
 "nbformat": 4,
 "nbformat_minor": 2
}
